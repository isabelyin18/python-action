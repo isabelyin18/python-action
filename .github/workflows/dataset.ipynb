{
 "cells": [
  {
   "cell_type": "code",
   "execution_count": null,
   "id": "5d15162d",
   "metadata": {},
   "outputs": [],
   "source": [
    "import pandas as pd\n",
    "import datetime as dt\n",
    "from pandas_datareader import data\n",
    "import yfinance as yf\n",
    "\n",
    "stock=yf.download('TSLA', start='2023-01-17', end='2023-08-17', progress=True)\n"
   ]
  },
  {
   "cell_type": "code",
   "execution_count": null,
   "id": "6dcc9f39",
   "metadata": {},
   "outputs": [],
   "source": [
    "stock.columns\n",
    "stock.value_counts\n",
    "stock.count"
   ]
  },
  {
   "cell_type": "code",
   "execution_count": null,
   "id": "c25fc4ee",
   "metadata": {},
   "outputs": [],
   "source": [
    "stock.loc[\"2023-05-16\"]\n",
    "\n",
    "stock.iloc[146]"
   ]
  },
  {
   "cell_type": "code",
   "execution_count": null,
   "id": "6daaada4",
   "metadata": {},
   "outputs": [],
   "source": [
    "birthdays=pd.date_range(start=\"1992-09-05\",end=\"2023-12-31\",freq=pd.DateOffset(years=1))"
   ]
  },
  {
   "cell_type": "code",
   "execution_count": null,
   "id": "49584ac2",
   "metadata": {},
   "outputs": [],
   "source": [
    "birthdays"
   ]
  },
  {
   "cell_type": "code",
   "execution_count": null,
   "id": "96a21ac1",
   "metadata": {},
   "outputs": [],
   "source": [
    "stock.columns"
   ]
  },
  {
   "cell_type": "code",
   "execution_count": null,
   "id": "107fbd5a",
   "metadata": {},
   "outputs": [],
   "source": [
    "birthdays.day_name()"
   ]
  },
  {
   "cell_type": "code",
   "execution_count": null,
   "id": "8c9c63ac",
   "metadata": {},
   "outputs": [],
   "source": [
    "import matplotlib.pyplot as plt \n",
    "%matplotlib inline\n",
    "bb=data.DataReader(name=\"BB\",data_sourse=\"yahoo\",start=\"2023-01-01\",end=\"2023-09-15\")"
   ]
  }
 ],
 "metadata": {
  "kernelspec": {
   "display_name": "Python 3 (ipykernel)",
   "language": "python",
   "name": "python3"
  },
  "language_info": {
   "codemirror_mode": {
    "name": "ipython",
    "version": 3
   },
   "file_extension": ".py",
   "mimetype": "text/x-python",
   "name": "python",
   "nbconvert_exporter": "python",
   "pygments_lexer": "ipython3",
   "version": "3.11.4"
  }
 },
 "nbformat": 4,
 "nbformat_minor": 5
}
